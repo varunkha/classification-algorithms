{
 "cells": [
  {
   "cell_type": "code",
   "execution_count": 1,
   "metadata": {
    "collapsed": true
   },
   "outputs": [],
   "source": [
    "#All the imports & pyplot inline setting\n",
    "import numpy as np\n",
    "import pandas as pd\n",
    "import random\n",
    "from scipy.spatial import distance\n",
    "from sklearn import preprocessing\n",
    "import scipy.stats"
   ]
  },
  {
   "cell_type": "code",
   "execution_count": 9,
   "metadata": {
    "collapsed": true
   },
   "outputs": [],
   "source": [
    "n_file='project3_dataset2.txt'\n",
    "#n_file='project3_dataset1.txt'\n",
    "n_neighbours=3\n",
    "n_folds = 10"
   ]
  },
  {
   "cell_type": "code",
   "execution_count": 10,
   "metadata": {
    "collapsed": true
   },
   "outputs": [],
   "source": [
    "df = pd.read_csv(n_file,header=None,delim_whitespace=True)"
   ]
  },
  {
   "cell_type": "code",
   "execution_count": 11,
   "metadata": {
    "collapsed": false
   },
   "outputs": [],
   "source": [
    "df = pd.read_csv(n_file,header=None,delim_whitespace=True)\n",
    "shuffled_idx = np.random.permutation(df.index)\n",
    "df = df.reindex(shuffled_idx)\n",
    "data_truth = df.iloc[:,-1].values"
   ]
  },
  {
   "cell_type": "code",
   "execution_count": 12,
   "metadata": {
    "collapsed": false
   },
   "outputs": [],
   "source": [
    "def find_label():\n",
    "    global data_probability\n",
    "    global data_label\n",
    "    data_label = np.argmax(data_probability,axis=1)"
   ]
  },
  {
   "cell_type": "code",
   "execution_count": 13,
   "metadata": {
    "collapsed": false
   },
   "outputs": [],
   "source": [
    "def calculate_probability(test,train,train_truth):\n",
    "    global data_probability\n",
    "    for i in range(df.shape[1]-1):\n",
    "        if(df[i].dtype=='object'):\n",
    "            le = preprocessing.LabelEncoder()\n",
    "            le.fit(df[:][i])\n",
    "            l_test = le.transform(test[:][i])\n",
    "            l_test = l_test.reshape((l_test.shape[0], 1))\n",
    "            l_train = le.transform(train[:][i])\n",
    "            l_train = l_train.reshape((l_train.shape[0], 1))\n",
    "            dict_0class = {}\n",
    "            dict_1class = {}\n",
    "            for i in range(len(le.classes_)):\n",
    "                dict_0class[i] = (0.0 + (l_train[train_truth==0]==i).sum())/((train_truth==0).sum())\n",
    "                dict_1class[i] = (0.0 + (l_train[train_truth==1]==i).sum())/((train_truth==1).sum())\n",
    "            dm = np.zeros((test.shape[0],2))\n",
    "            dm[:,0] = np.vectorize(dict_0class.get)(l_test).flatten()\n",
    "            dm[:,1] = np.vectorize(dict_1class.get)(l_test).flatten()\n",
    "        else:\n",
    "            l_test = test[:][i]\n",
    "            l_test = l_test.reshape((l_test.shape[0], 1))\n",
    "            l_train = train[:][i]\n",
    "            l_train = l_train.reshape((l_train.shape[0], 1))\n",
    "            dm = np.zeros((test.shape[0],2))\n",
    "            pdf_0 = scipy.stats.norm(l_train[train_truth==0].mean(), l_train[train_truth==0].std())\n",
    "            pdf_1 = scipy.stats.norm(l_train[train_truth==1].mean(), l_train[train_truth==1].std())\n",
    "            dm[:,0] = np.vectorize(pdf_0.pdf)(l_test).flatten()\n",
    "            dm[:,1] = np.vectorize(pdf_1.pdf)(l_test).flatten()\n",
    "        data_probability = np.multiply(data_probability,dm)"
   ]
  },
  {
   "cell_type": "code",
   "execution_count": 14,
   "metadata": {
    "collapsed": true
   },
   "outputs": [],
   "source": [
    "def calculate_measure(data_label,test_truth):\n",
    "    total = data_label.shape[0]\n",
    "    match = data_label[data_label.flatten()==test_truth.flatten()]\n",
    "    non_match = data_label[data_label.flatten()!=test_truth.flatten()]\n",
    "    pos = match[match==1].shape[0]\n",
    "    neg = match[match==0].shape[0]\n",
    "    false_pos = non_match[non_match==1].shape[0]\n",
    "    false_neg = non_match[non_match==0].shape[0]\n",
    "    cal_accuracy = (0.0 + pos + neg)/(0.0 + pos + neg + false_pos + false_neg)\n",
    "    cal_precision = (0.0 + pos)/(0.0 + pos + neg)\n",
    "    cal_recall = (0.0 + pos)/(0.0 + pos + false_neg)\n",
    "    denom = (0.0 + cal_precision + cal_recall)\n",
    "    if denom==0:\n",
    "        denom=1\n",
    "    cal_f_measure = (2.0*cal_precision*cal_recall)/denom\n",
    "    return (cal_accuracy,cal_precision,cal_recall,cal_f_measure)"
   ]
  },
  {
   "cell_type": "code",
   "execution_count": 15,
   "metadata": {
    "collapsed": false
   },
   "outputs": [
    {
     "name": "stdout",
     "output_type": "stream",
     "text": [
      "kFold 0:\n",
      "Accuracy: 0.673913043478\tPrecision: 0.41935483871\tRecall: 0.764705882353\tF-measure: 0.541666666667\n",
      "kFold 1:\n",
      "Accuracy: 0.760869565217\tPrecision: 0.371428571429\tRecall: 0.65\tF-measure: 0.472727272727\n",
      "kFold 2:\n",
      "Accuracy: 0.586956521739\tPrecision: 0.296296296296\tRecall: 0.666666666667\tF-measure: 0.410256410256\n",
      "kFold 3:\n",
      "Accuracy: 0.717391304348\tPrecision: 0.424242424242\tRecall: 0.736842105263\tF-measure: 0.538461538462\n",
      "kFold 4:\n",
      "Accuracy: 0.652173913043\tPrecision: 0.3\tRecall: 0.642857142857\tF-measure: 0.409090909091\n",
      "kFold 5:\n",
      "Accuracy: 0.673913043478\tPrecision: 0.322580645161\tRecall: 0.555555555556\tF-measure: 0.408163265306\n",
      "kFold 6:\n",
      "Accuracy: 0.673913043478\tPrecision: 0.451612903226\tRecall: 0.875\tF-measure: 0.595744680851\n",
      "kFold 7:\n",
      "Accuracy: 0.673913043478\tPrecision: 0.258064516129\tRecall: 0.615384615385\tF-measure: 0.363636363636\n",
      "kFold 8:\n",
      "Accuracy: 0.782608695652\tPrecision: 0.361111111111\tRecall: 0.8125\tF-measure: 0.5\n",
      "kFold 9:\n",
      "Accuracy: 0.760869565217\tPrecision: 0.228571428571\tRecall: 0.571428571429\tF-measure: 0.326530612245\n",
      "Average Accuracy: 0.695652173913\n",
      "Average Precision: 0.343326273488\n",
      "Average Recall: 0.689094053951\n",
      "Average F-Measure: 0.456627771924\n"
     ]
    }
   ],
   "source": [
    "accuracy = 0.0\n",
    "precision = 0.0\n",
    "recall = 0.0\n",
    "f_measure = 0.0\n",
    "count=shuffled_idx.shape[0]//n_folds\n",
    "for i in range(n_folds):\n",
    "    test = df.iloc[count*i:count*(i+1)]\n",
    "    train = pd.concat([df.iloc[0:count*i],df.iloc[count*(i+1):]])\n",
    "    test_truth = data_truth[count*i:count*(i+1)]\n",
    "    train_truth = pd.concat([df.iloc[:,-1].iloc[0:count*i],df.iloc[:,-1].iloc[count*(i+1):]]).values\n",
    "    data_probability = np.ones((test.shape[0],2))\n",
    "    data_label = np.zeros(test_truth.shape)\n",
    "    calculate_probability(test,train,train_truth)\n",
    "    find_label()\n",
    "    current_accuracy,current_precision,current_recall,current_f_measure = calculate_measure(data_label,test_truth)\n",
    "    print 'kFold ' + str(i) + ':\\nAccuracy: ' + str(current_accuracy) + '\\tPrecision: ' + str(current_precision) + \\\n",
    "    '\\tRecall: ' + str(current_recall) + '\\tF-measure: ' + str(current_f_measure)\n",
    "    accuracy = accuracy + current_accuracy\n",
    "    precision = precision + current_precision\n",
    "    recall = recall + current_recall\n",
    "    f_measure = f_measure + current_f_measure\n",
    "print 'Average Accuracy: ' + str(accuracy/n_folds)\n",
    "print 'Average Precision: ' + str(precision/n_folds)\n",
    "print 'Average Recall: ' + str(recall/n_folds)\n",
    "print 'Average F-Measure: ' + str(f_measure/n_folds)"
   ]
  },
  {
   "cell_type": "code",
   "execution_count": null,
   "metadata": {
    "collapsed": true
   },
   "outputs": [],
   "source": []
  }
 ],
 "metadata": {
  "anaconda-cloud": {},
  "kernelspec": {
   "display_name": "Python [Root]",
   "language": "python",
   "name": "Python [Root]"
  },
  "language_info": {
   "codemirror_mode": {
    "name": "ipython",
    "version": 2
   },
   "file_extension": ".py",
   "mimetype": "text/x-python",
   "name": "python",
   "nbconvert_exporter": "python",
   "pygments_lexer": "ipython2",
   "version": "2.7.12"
  }
 },
 "nbformat": 4,
 "nbformat_minor": 0
}
