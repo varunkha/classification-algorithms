{
 "cells": [
  {
   "cell_type": "code",
   "execution_count": 1,
   "metadata": {
    "collapsed": true
   },
   "outputs": [],
   "source": [
    "#All the imports & pyplot inline setting\n",
    "import numpy as np\n",
    "import pandas as pd\n",
    "import random\n",
    "from sklearn import preprocessing\n",
    "import scipy.stats"
   ]
  },
  {
   "cell_type": "code",
   "execution_count": 16,
   "metadata": {
    "collapsed": true
   },
   "outputs": [],
   "source": [
    "n_file='project3_dataset2.txt'\n",
    "#n_file='project3_dataset1.txt'\n",
    "n_folds = 10\n",
    "n_trees = 5"
   ]
  },
  {
   "cell_type": "code",
   "execution_count": 17,
   "metadata": {
    "collapsed": true
   },
   "outputs": [],
   "source": [
    "df = pd.read_csv(n_file,header=None,delim_whitespace=True)"
   ]
  },
  {
   "cell_type": "code",
   "execution_count": 18,
   "metadata": {
    "collapsed": false
   },
   "outputs": [],
   "source": [
    "df = pd.read_csv(n_file,header=None,delim_whitespace=True)\n",
    "shuffled_idx = np.random.permutation(df.index)\n",
    "df = df.reindex(shuffled_idx)\n",
    "data_truth = df.iloc[:,-1].values"
   ]
  },
  {
   "cell_type": "code",
   "execution_count": 19,
   "metadata": {
    "collapsed": true
   },
   "outputs": [],
   "source": [
    "def create_branches_continous(train,column_index,column_value):\n",
    "    left = train[train[column_index]<=column_value]\n",
    "    right = train[train[column_index]>column_value]\n",
    "    return (left,right)"
   ]
  },
  {
   "cell_type": "code",
   "execution_count": 20,
   "metadata": {
    "collapsed": true
   },
   "outputs": [],
   "source": [
    "def create_branches_categorical(train,column_index,column_value):\n",
    "    left = train[train[column_index]==column_value]\n",
    "    right = train[train[column_index]!=column_value]\n",
    "    return (left,right)"
   ]
  },
  {
   "cell_type": "code",
   "execution_count": 21,
   "metadata": {
    "collapsed": true
   },
   "outputs": [],
   "source": [
    "def calculate_gini(temp_truth):\n",
    "    count0 = ((temp_truth==0).sum())\n",
    "    count1 = ((temp_truth==1).sum())\n",
    "    total = count0 + count1\n",
    "    p_count0 = (0.0 + count0)/total\n",
    "    p_count1 = (0.0 + count1)/total\n",
    "    gini = 1.0 - p_count0*p_count0 - p_count1*p_count1\n",
    "    return gini"
   ]
  },
  {
   "cell_type": "code",
   "execution_count": 22,
   "metadata": {
    "collapsed": true
   },
   "outputs": [],
   "source": [
    "class TreeNode:\n",
    "    def __init__(self, column_number, operator, isLeaf, truth, value, left, right):\n",
    "        self.column_number = column_number\n",
    "        self.operator = operator\n",
    "        self.isLeaf = isLeaf\n",
    "        self.truth = truth\n",
    "        self.value = value\n",
    "        self.left = left\n",
    "        self.right = right\n",
    "   \n",
    "    def setLeaf(self, isLeaf, truth):\n",
    "        self.isLeaf = isLeaf\n",
    "        self.truth = truth\n",
    "\n",
    "    def setChild(self,column_number, operator, value, left, right):\n",
    "        self.column_number = column_number\n",
    "        self.operator = operator\n",
    "        self.value = value\n",
    "        self.left = left\n",
    "        self.right = right"
   ]
  },
  {
   "cell_type": "code",
   "execution_count": 23,
   "metadata": {
    "collapsed": false
   },
   "outputs": [],
   "source": [
    "def build_tree(node_tree, node):\n",
    "    global n_count\n",
    "    column_count = node.shape[1] - 1\n",
    "    record_count = node.shape[0]\n",
    "    node_truth = node.iloc[:,-1].values\n",
    "    node_truth = node_truth.reshape((node_truth.shape[0],1))\n",
    "    current_gini = calculate_gini(node_truth)\n",
    "        \n",
    "    column_number = None\n",
    "    operator = None\n",
    "    isLeaf = False\n",
    "    truth = None\n",
    "    value = None\n",
    "    gini_combined = 0.0\n",
    "    min_gini = current_gini\n",
    "    \n",
    "    for i in range(column_count):\n",
    "        if(node[i].dtype=='object'):\n",
    "            le = preprocessing.LabelEncoder()\n",
    "            le.fit(node[:][i])\n",
    "            l_node = le.transform(node[:][i])\n",
    "            l_node = l_node.reshape((l_node.shape[0], 1))\n",
    "            for j in range(len(le.classes_)):\n",
    "                truth_left = node_truth[l_node==j]\n",
    "                truth_right = node_truth[l_node!=j]\n",
    "                if(truth_left.shape[0]==0 or truth_right.shape[0]==0):\n",
    "                    continue\n",
    "                gini_child_left = calculate_gini(truth_left)\n",
    "                gini_child_right = calculate_gini(truth_right)\n",
    "                gini_combined = (0.0 + truth_left.shape[0])/(0.0 + record_count)*gini_child_left \\\n",
    "                + (0.0 + truth_right.shape[0])/(0.0 + record_count)*gini_child_right\n",
    "            \n",
    "                if gini_combined < min_gini:\n",
    "                    column_number = i\n",
    "                    operator = '=='\n",
    "                    value = le.classes_[j]\n",
    "                    isLeaf = False\n",
    "                    min_gini = gini_combined\n",
    "        else:\n",
    "            col = node[i]\n",
    "            col_mean = col.mean()\n",
    "            truth_left = node_truth[(col<=col_mean).reshape((col.shape[0],1))]\n",
    "            truth_right = node_truth[(col>col_mean).reshape((col.shape[0],1))]\n",
    "            if(truth_left.shape[0]==0 or truth_right.shape[0]==0):\n",
    "                    continue\n",
    "            gini_child_left = calculate_gini(truth_left)\n",
    "            gini_child_right = calculate_gini(truth_right)\n",
    "            gini_combined = (0.0 + truth_left.shape[0])/(0.0 + record_count)*gini_child_left \\\n",
    "            + (0.0 + truth_right.shape[0])/(0.0 + record_count)*gini_child_right\n",
    "            \n",
    "            if gini_combined < min_gini:\n",
    "                column_number = i\n",
    "                operator = '<='\n",
    "                value = col_mean\n",
    "                isLeaf = False\n",
    "                min_gini = gini_combined\n",
    "\n",
    "    if min_gini == 0.0 or column_number is None:\n",
    "        isLeaf = True\n",
    "        truth_0 = node_truth[node_truth==0]\n",
    "        truth_1 = node_truth[node_truth==1]\n",
    "        if truth_0.shape[0] >= truth_1.shape[0]:\n",
    "            truth = 0\n",
    "        else:\n",
    "            truth = 1\n",
    "        node_tree.setLeaf(isLeaf, truth)\n",
    "    else:\n",
    "        if(operator=='=='):\n",
    "            left,right = create_branches_categorical(node,column_number,value)\n",
    "        else:\n",
    "            left,right = create_branches_continous(node,column_number,value)\n",
    "        \n",
    "        if(left.shape[0]!=0):\n",
    "            left_child = TreeNode(None, None, False, None, None, None, None)\n",
    "            build_tree(left_child,left)\n",
    "        else:\n",
    "            left_child = None\n",
    "        \n",
    "        if(right.shape[0]!=0):\n",
    "            right_child = TreeNode(None, None, False, None, None, None, None)\n",
    "            build_tree(right_child,right)\n",
    "        else:\n",
    "            right_child = None\n",
    "        \n",
    "        if(left_child is not None and right_child is not None and left_child.isLeaf and right_child.isLeaf and left_child.truth==right_child.truth):\n",
    "            node_tree.setLeaf(True,left_child.truth)\n",
    "            node_tree.setChild(None, None, None, None, None)\n",
    "        else:\n",
    "            node_tree.setChild(column_number, operator, value, left_child, right_child)\n",
    "    "
   ]
  },
  {
   "cell_type": "code",
   "execution_count": 24,
   "metadata": {
    "collapsed": true
   },
   "outputs": [],
   "source": [
    "def printtree(tree,indent=''):\n",
    "    # Is this a leaf node?\n",
    "    if tree.isLeaf:\n",
    "        print str(tree.truth)\n",
    "    else:\n",
    "        # Print the criteria\n",
    "        print str(tree.column_number)+tree.operator+str(tree.value)+'? '\n",
    "\n",
    "        # Print the branches\n",
    "        print indent+'T->',\n",
    "        printtree(tree.left,indent+'|  ')\n",
    "        print indent+'F->',\n",
    "        printtree(tree.right,indent+'  ')"
   ]
  },
  {
   "cell_type": "code",
   "execution_count": 25,
   "metadata": {
    "collapsed": false,
    "scrolled": false
   },
   "outputs": [],
   "source": [
    "#printtree(root_node)"
   ]
  },
  {
   "cell_type": "code",
   "execution_count": 26,
   "metadata": {
    "collapsed": false
   },
   "outputs": [],
   "source": [
    "def find_label(test_rec,tree):\n",
    "    while not tree.isLeaf:\n",
    "        if tree.operator=='==':\n",
    "            if test_rec[tree.column_number]==tree.value:\n",
    "                tree = tree.left\n",
    "            else:\n",
    "                tree = tree.right\n",
    "        else:\n",
    "            if test_rec[tree.column_number]<=tree.value:\n",
    "                tree = tree.left\n",
    "            else:\n",
    "                tree = tree.right\n",
    "    return tree.truth"
   ]
  },
  {
   "cell_type": "code",
   "execution_count": 27,
   "metadata": {
    "collapsed": true
   },
   "outputs": [],
   "source": [
    "n_features = df.shape[1]//5.0"
   ]
  },
  {
   "cell_type": "code",
   "execution_count": 28,
   "metadata": {
    "collapsed": true
   },
   "outputs": [],
   "source": [
    "def calculate_measure(data_label,test_truth):\n",
    "    total = data_label.shape[0]\n",
    "    match = data_label[data_label.flatten()==test_truth.flatten()]\n",
    "    non_match = data_label[data_label.flatten()!=test_truth.flatten()]\n",
    "    pos = match[match==1].shape[0]\n",
    "    neg = match[match==0].shape[0]\n",
    "    false_pos = non_match[non_match==1].shape[0]\n",
    "    false_neg = non_match[non_match==0].shape[0]\n",
    "    cal_accuracy = (0.0 + pos + neg)/(0.0 + pos + neg + false_pos + false_neg)\n",
    "    cal_precision = (0.0 + pos)/(0.0 + pos + neg)\n",
    "    cal_recall = (0.0 + pos)/(0.0 + pos + false_neg)\n",
    "    denom = (0.0 + cal_precision + cal_recall)\n",
    "    if denom==0:\n",
    "        denom=1\n",
    "    cal_f_measure = (2.0*cal_precision*cal_recall)/denom\n",
    "    return (cal_accuracy,cal_precision,cal_recall,cal_f_measure)"
   ]
  },
  {
   "cell_type": "code",
   "execution_count": 29,
   "metadata": {
    "collapsed": false
   },
   "outputs": [
    {
     "name": "stdout",
     "output_type": "stream",
     "text": [
      "kFold 0:\n",
      "Accuracy: 0.652173913043\tPrecision: 0.166666666667\tRecall: 0.384615384615\tF-measure: 0.232558139535\n",
      "kFold 1:\n",
      "Accuracy: 0.565217391304\tPrecision: 0.192307692308\tRecall: 0.294117647059\tF-measure: 0.232558139535\n",
      "kFold 2:\n",
      "Accuracy: 0.652173913043\tPrecision: 0.133333333333\tRecall: 0.333333333333\tF-measure: 0.190476190476\n",
      "kFold 3:\n",
      "Accuracy: 0.652173913043\tPrecision: 0.166666666667\tRecall: 0.3125\tF-measure: 0.217391304348\n",
      "kFold 4:\n",
      "Accuracy: 0.652173913043\tPrecision: 0.233333333333\tRecall: 0.466666666667\tF-measure: 0.311111111111\n",
      "kFold 5:\n",
      "Accuracy: 0.652173913043\tPrecision: 0.233333333333\tRecall: 0.466666666667\tF-measure: 0.311111111111\n",
      "kFold 6:\n",
      "Accuracy: 0.652173913043\tPrecision: 0.1\tRecall: 0.1875\tF-measure: 0.130434782609\n",
      "kFold 7:\n",
      "Accuracy: 0.652173913043\tPrecision: 0.366666666667\tRecall: 0.55\tF-measure: 0.44\n",
      "kFold 8:\n",
      "Accuracy: 0.586956521739\tPrecision: 0.185185185185\tRecall: 0.238095238095\tF-measure: 0.208333333333\n",
      "kFold 9:\n",
      "Accuracy: 0.673913043478\tPrecision: 0.129032258065\tRecall: 0.266666666667\tF-measure: 0.173913043478\n",
      "Average Accuracy: 0.639130434783\n",
      "Average Precision: 0.190652513556\n",
      "Average Recall: 0.35001616031\n",
      "Average F-Measure: 0.244788715554\n"
     ]
    }
   ],
   "source": [
    "accuracy = 0.0\n",
    "precision = 0.0\n",
    "recall = 0.0\n",
    "f_measure = 0.0\n",
    "count=shuffled_idx.shape[0]//n_folds\n",
    "for i in range(n_folds):\n",
    "    test = df.iloc[count*i:count*(i+1)]\n",
    "    train = pd.concat([df.iloc[0:count*i],df.iloc[count*(i+1):]])\n",
    "    test_truth = data_truth[count*i:count*(i+1)]\n",
    "    train_truth = pd.concat([df.iloc[:,-1].iloc[0:count*i],df.iloc[:,-1].iloc[count*(i+1):]])\n",
    "    \n",
    "    prob = np.ones(train.shape[0])\n",
    "    prob = prob/prob.sum()\n",
    "    train2 = train\n",
    "    train_truth2 = train_truth\n",
    "    train2.index = np.arange(train.shape[0])\n",
    "    train_truth2.index = np.arange(train.shape[0])\n",
    "    original_index = np.arange(train.shape[0])\n",
    "    root_node_list = []\n",
    "    accuracy_boosting = np.zeros(n_trees)\n",
    "    for k in range(n_trees):\n",
    "        \n",
    "        replacement_idx = np.random.choice(train.shape[0], train.shape[0]//10*9, replace=False, p=prob)\n",
    "        validation_idx = np.setdiff1d(original_index, replacement_idx)\n",
    "        \n",
    "        train3 = train2.reindex(replacement_idx)\n",
    "        validation3 = train2.reindex(validation_idx)\n",
    "        train_truth2 = train_truth.reindex(replacement_idx).values\n",
    "        validation_truth3 = train_truth.reindex(validation_idx).values\n",
    "        data_label = np.zeros(validation_truth3.shape[0])\n",
    "            \n",
    "        root_node_list.append(TreeNode(None, None, False, None, None, None, None))\n",
    "        build_tree(root_node_list[k], train3)\n",
    "        for j in range(validation_truth3.shape[0]):\n",
    "            data_label[j] = find_label(validation3.iloc[j],root_node_list[k])\n",
    "            if(data_label[j]!=validation_truth3[j]):\n",
    "                prob[validation_idx[j]] = prob[validation_idx[j]] * 2 \n",
    "        prob = prob/prob.sum()\n",
    "        \n",
    "        accuracy_boosting[k] = (0.0 + (data_label.flatten()==validation_truth3.flatten()).sum())/data_label.shape[0]\n",
    "    \n",
    "    data_label = np.zeros(test_truth.shape[0])\n",
    "    for k in range(n_trees):\n",
    "        for j in range(test_truth.shape[0]):\n",
    "            data_label[j] = data_label[j] + accuracy_boosting[k]/accuracy_boosting.sum() * find_label(test.iloc[j],root_node_list[k])\n",
    "    \n",
    "    data_label[data_label<0.5] = 0\n",
    "    data_label[data_label>=0.5] = 1\n",
    "    current_accuracy,current_precision,current_recall,current_f_measure = calculate_measure(data_label,test_truth)\n",
    "    print 'kFold ' + str(i) + ':\\nAccuracy: ' + str(current_accuracy) + '\\tPrecision: ' + str(current_precision) + \\\n",
    "    '\\tRecall: ' + str(current_recall) + '\\tF-measure: ' + str(current_f_measure)\n",
    "    accuracy = accuracy + current_accuracy\n",
    "    precision = precision + current_precision\n",
    "    recall = recall + current_recall\n",
    "    f_measure = f_measure + current_f_measure\n",
    "print 'Average Accuracy: ' + str(accuracy/n_folds)\n",
    "print 'Average Precision: ' + str(precision/n_folds)\n",
    "print 'Average Recall: ' + str(recall/n_folds)\n",
    "print 'Average F-Measure: ' + str(f_measure/n_folds)"
   ]
  },
  {
   "cell_type": "code",
   "execution_count": null,
   "metadata": {
    "collapsed": true
   },
   "outputs": [],
   "source": []
  }
 ],
 "metadata": {
  "anaconda-cloud": {},
  "kernelspec": {
   "display_name": "Python [Root]",
   "language": "python",
   "name": "Python [Root]"
  },
  "language_info": {
   "codemirror_mode": {
    "name": "ipython",
    "version": 2
   },
   "file_extension": ".py",
   "mimetype": "text/x-python",
   "name": "python",
   "nbconvert_exporter": "python",
   "pygments_lexer": "ipython2",
   "version": "2.7.12"
  }
 },
 "nbformat": 4,
 "nbformat_minor": 0
}
