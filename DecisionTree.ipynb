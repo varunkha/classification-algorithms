{
 "cells": [
  {
   "cell_type": "code",
   "execution_count": 1,
   "metadata": {
    "collapsed": true
   },
   "outputs": [],
   "source": [
    "#All the imports & pyplot inline setting\n",
    "import numpy as np\n",
    "import pandas as pd\n",
    "import random\n",
    "from sklearn import preprocessing"
   ]
  },
  {
   "cell_type": "code",
   "execution_count": 35,
   "metadata": {
    "collapsed": true
   },
   "outputs": [],
   "source": [
    "#n_file='project3_dataset2.txt'\n",
    "n_file='project3_dataset1.txt'\n",
    "n_folds = 10"
   ]
  },
  {
   "cell_type": "code",
   "execution_count": 36,
   "metadata": {
    "collapsed": true
   },
   "outputs": [],
   "source": [
    "df = pd.read_csv(n_file,header=None,delim_whitespace=True)"
   ]
  },
  {
   "cell_type": "code",
   "execution_count": 37,
   "metadata": {
    "collapsed": false
   },
   "outputs": [],
   "source": [
    "df = pd.read_csv(n_file,header=None,delim_whitespace=True)\n",
    "shuffled_idx = np.random.permutation(df.index)\n",
    "df = df.reindex(shuffled_idx)\n",
    "data_truth = df.iloc[:,-1].values"
   ]
  },
  {
   "cell_type": "code",
   "execution_count": 38,
   "metadata": {
    "collapsed": true
   },
   "outputs": [],
   "source": [
    "def create_branches_continous(train,column_index,column_value):\n",
    "    left = train[train[column_index]<=column_value]\n",
    "    right = train[train[column_index]>column_value]\n",
    "    return (left,right)"
   ]
  },
  {
   "cell_type": "code",
   "execution_count": 39,
   "metadata": {
    "collapsed": true
   },
   "outputs": [],
   "source": [
    "def create_branches_categorical(train,column_index,column_value):\n",
    "    left = train[train[column_index]==column_value]\n",
    "    right = train[train[column_index]!=column_value]\n",
    "    return (left,right)"
   ]
  },
  {
   "cell_type": "code",
   "execution_count": 40,
   "metadata": {
    "collapsed": true
   },
   "outputs": [],
   "source": [
    "def calculate_gini(temp_truth):\n",
    "    count0 = ((temp_truth==0).sum())\n",
    "    count1 = ((temp_truth==1).sum())\n",
    "    total = count0 + count1\n",
    "    p_count0 = (0.0 + count0)/total\n",
    "    p_count1 = (0.0 + count1)/total\n",
    "    gini = 1.0 - p_count0*p_count0 - p_count1*p_count1\n",
    "    return gini"
   ]
  },
  {
   "cell_type": "code",
   "execution_count": 41,
   "metadata": {
    "collapsed": true
   },
   "outputs": [],
   "source": [
    "class TreeNode:\n",
    "    def __init__(self, column_number, operator, isLeaf, truth, value, left, right):\n",
    "        self.column_number = column_number\n",
    "        self.operator = operator\n",
    "        self.isLeaf = isLeaf\n",
    "        self.truth = truth\n",
    "        self.value = value\n",
    "        self.left = left\n",
    "        self.right = right\n",
    "   \n",
    "    def setLeaf(self, isLeaf, truth):\n",
    "        self.isLeaf = isLeaf\n",
    "        self.truth = truth\n",
    "\n",
    "    def setChild(self,column_number, operator, value, left, right):\n",
    "        self.column_number = column_number\n",
    "        self.operator = operator\n",
    "        self.value = value\n",
    "        self.left = left\n",
    "        self.right = right"
   ]
  },
  {
   "cell_type": "code",
   "execution_count": 42,
   "metadata": {
    "collapsed": false
   },
   "outputs": [],
   "source": [
    "def build_tree(node_tree, node):\n",
    "    global n_count\n",
    "    column_count = node.shape[1] - 1\n",
    "    record_count = node.shape[0]\n",
    "    node_truth = node.iloc[:,-1].values\n",
    "    node_truth = node_truth.reshape((node_truth.shape[0],1))\n",
    "    current_gini = calculate_gini(node_truth)\n",
    "        \n",
    "    column_number = None\n",
    "    operator = None\n",
    "    isLeaf = False\n",
    "    truth = None\n",
    "    value = None\n",
    "    gini_combined = 0.0\n",
    "    min_gini = current_gini\n",
    "    \n",
    "    for i in range(column_count):\n",
    "        if node[i].dtype=='object':\n",
    "            le = preprocessing.LabelEncoder()\n",
    "            le.fit(node[:][i])\n",
    "            l_node = le.transform(node[:][i])\n",
    "            l_node = l_node.reshape((l_node.shape[0], 1))\n",
    "            for j in range(len(le.classes_)):\n",
    "                truth_left = node_truth[l_node==j]\n",
    "                truth_right = node_truth[l_node!=j]\n",
    "                if(truth_left.shape[0]==0 or truth_right.shape[0]==0):\n",
    "                    continue\n",
    "                gini_child_left = calculate_gini(truth_left)\n",
    "                gini_child_right = calculate_gini(truth_right)\n",
    "                gini_combined = (0.0 + truth_left.shape[0])/(0.0 + record_count)*gini_child_left \\\n",
    "                + (0.0 + truth_right.shape[0])/(0.0 + record_count)*gini_child_right\n",
    "            \n",
    "                if gini_combined < min_gini:\n",
    "                    column_number = i\n",
    "                    operator = '=='\n",
    "                    value = le.classes_[j]\n",
    "                    isLeaf = False\n",
    "                    min_gini = gini_combined\n",
    "        else:\n",
    "            col = node[i]\n",
    "            col_mean = col.mean()\n",
    "            truth_left = node_truth[(col<=col_mean).reshape((col.shape[0],1))]\n",
    "            truth_right = node_truth[(col>col_mean).reshape((col.shape[0],1))]\n",
    "            if truth_left.shape[0]==0 or truth_right.shape[0]==0:\n",
    "                    continue\n",
    "            gini_child_left = calculate_gini(truth_left)\n",
    "            gini_child_right = calculate_gini(truth_right)\n",
    "            gini_combined = (0.0 + truth_left.shape[0])/(0.0 + record_count)*gini_child_left \\\n",
    "            + (0.0 + truth_right.shape[0])/(0.0 + record_count)*gini_child_right\n",
    "            \n",
    "            if gini_combined < min_gini:\n",
    "                column_number = i\n",
    "                operator = '<='\n",
    "                value = col_mean\n",
    "                isLeaf = False\n",
    "                min_gini = gini_combined\n",
    "\n",
    "    if min_gini == 0.0 or column_number is None:\n",
    "        isLeaf = True\n",
    "        truth_0 = node_truth[node_truth==0]\n",
    "        truth_1 = node_truth[node_truth==1]\n",
    "        if truth_0.shape[0] >= truth_1.shape[0]:\n",
    "            truth = 0\n",
    "        else:\n",
    "            truth = 1\n",
    "        node_tree.setLeaf(isLeaf, truth)\n",
    "    else:\n",
    "        if operator=='==':\n",
    "            left,right = create_branches_categorical(node,column_number,value)\n",
    "        else:\n",
    "            left,right = create_branches_continous(node,column_number,value)\n",
    "        \n",
    "        if left.shape[0]!=0:\n",
    "            left_child = TreeNode(None, None, False, None, None, None, None)\n",
    "            build_tree(left_child,left)\n",
    "        else:\n",
    "            left_child = None\n",
    "        \n",
    "        if right.shape[0]!=0:\n",
    "            right_child = TreeNode(None, None, False, None, None, None, None)\n",
    "            build_tree(right_child,right)\n",
    "        else:\n",
    "            right_child = None\n",
    "        \n",
    "        if left_child is not None and right_child is not None and left_child.isLeaf and right_child.isLeaf and left_child.truth==right_child.truth:\n",
    "            node_tree.setLeaf(True,left_child.truth)\n",
    "            node_tree.setChild(None, None, None, None, None)\n",
    "        else:\n",
    "            node_tree.setChild(column_number, operator, value, left_child, right_child)\n",
    "    "
   ]
  },
  {
   "cell_type": "code",
   "execution_count": 43,
   "metadata": {
    "collapsed": true
   },
   "outputs": [],
   "source": [
    "def printtree(tree,indent=''):\n",
    "    # Is this a leaf node?\n",
    "    if tree.isLeaf:\n",
    "        print str(tree.truth)\n",
    "    else:\n",
    "        # Print the criteria\n",
    "        print str(tree.column_number)+tree.operator+str(tree.value)+'? '\n",
    "\n",
    "        # Print the branches\n",
    "        print indent+'T->',\n",
    "        printtree(tree.left,indent+'|  ')\n",
    "        print indent+'F->',\n",
    "        printtree(tree.right,indent+'  ')"
   ]
  },
  {
   "cell_type": "code",
   "execution_count": 47,
   "metadata": {
    "collapsed": false,
    "scrolled": false
   },
   "outputs": [
    {
     "name": "stdout",
     "output_type": "stream",
     "text": [
      "23<=878.433333333? \n",
      "T-> 26<=0.195124528571? \n",
      "|  T-> 11<=1.28275491071? \n",
      "|  |  T-> 0\n",
      "|  |  F-> 13<=24.3318804348? \n",
      "|  |    T-> 0\n",
      "|  |    F-> 13<=35.2218181818? \n",
      "|  |      T-> 0\n",
      "|  |      F-> 13<=54.0075? \n",
      "|  |        T-> 0\n",
      "|  |        F-> 1\n",
      "|  F-> 7<=0.0447685396825? \n",
      "|    T-> 1<=18.6935714286? \n",
      "|    |  T-> 0\n",
      "|    |  F-> 5<=0.098034516129? \n",
      "|    |    T-> 15<=0.0195038461538? \n",
      "|    |    |  T-> 0<=12.542? \n",
      "|    |    |  |  T-> 0\n",
      "|    |    |  |  F-> 1\n",
      "|    |    |  F-> 0\n",
      "|    |    F-> 0\n",
      "|    F-> 21<=25.9708928571? \n",
      "|      T-> 23<=644.010714286? \n",
      "|      |  T-> 0\n",
      "|      |  F-> 21<=20.60125? \n",
      "|      |    T-> 0\n",
      "|      |    F-> 1<=18.17125? \n",
      "|      |      T-> 1\n",
      "|      |      F-> 0\n",
      "|      F-> 1\n",
      "F-> 24<=0.141363558282? \n",
      "  T-> 1<=21.3914814815? \n",
      "  |  T-> 7<=0.069812? \n",
      "  |  |  T-> 20<=18.884? \n",
      "  |  |  |  T-> 1<=16.6272727273? \n",
      "  |  |  |  |  T-> 0\n",
      "  |  |  |  |  F-> 1\n",
      "  |  |  |  F-> 1\n",
      "  |  |  F-> 1\n",
      "  |  F-> 1\n",
      "  F-> 1\n"
     ]
    }
   ],
   "source": [
    "printtree(root_node)"
   ]
  },
  {
   "cell_type": "code",
   "execution_count": 44,
   "metadata": {
    "collapsed": false
   },
   "outputs": [],
   "source": [
    "def find_label(test_rec,tree):\n",
    "    while not tree.isLeaf:\n",
    "        if tree.operator=='==':\n",
    "            if test_rec[tree.column_number]==tree.value:\n",
    "                tree = tree.left\n",
    "            else:\n",
    "                tree = tree.right\n",
    "        else:\n",
    "            if test_rec[tree.column_number]<=tree.value:\n",
    "                tree = tree.left\n",
    "            else:\n",
    "                tree = tree.right\n",
    "    return tree.truth"
   ]
  },
  {
   "cell_type": "code",
   "execution_count": 45,
   "metadata": {
    "collapsed": true
   },
   "outputs": [],
   "source": [
    "def calculate_measure(data_label,test_truth):\n",
    "    total = data_label.shape[0]\n",
    "    match = data_label[data_label.flatten()==test_truth.flatten()]\n",
    "    non_match = data_label[data_label.flatten()!=test_truth.flatten()]\n",
    "    pos = match[match==1].shape[0]\n",
    "    neg = match[match==0].shape[0]\n",
    "    false_pos = non_match[non_match==1].shape[0]\n",
    "    false_neg = non_match[non_match==0].shape[0]\n",
    "    cal_accuracy = (0.0 + pos + neg)/(0.0 + pos + neg + false_pos + false_neg)\n",
    "    cal_precision = (0.0 + pos)/(0.0 + pos + neg)\n",
    "    cal_recall = (0.0 + pos)/(0.0 + pos + false_neg)\n",
    "    denom = (0.0 + cal_precision + cal_recall)\n",
    "    if denom==0:\n",
    "        denom=1\n",
    "    cal_f_measure = (2.0*cal_precision*cal_recall)/denom\n",
    "    return (cal_accuracy,cal_precision,cal_recall,cal_f_measure)"
   ]
  },
  {
   "cell_type": "code",
   "execution_count": 46,
   "metadata": {
    "collapsed": false,
    "scrolled": true
   },
   "outputs": [
    {
     "name": "stdout",
     "output_type": "stream",
     "text": [
      "kFold 0:\n",
      "Accuracy: 0.982142857143\tPrecision: 0.436363636364\tRecall: 1.0\tF-measure: 0.607594936709\n",
      "kFold 1:\n",
      "Accuracy: 0.964285714286\tPrecision: 0.37037037037\tRecall: 0.909090909091\tF-measure: 0.526315789474\n",
      "kFold 2:\n",
      "Accuracy: 0.964285714286\tPrecision: 0.351851851852\tRecall: 0.904761904762\tF-measure: 0.506666666667\n",
      "kFold 3:\n",
      "Accuracy: 0.946428571429\tPrecision: 0.377358490566\tRecall: 0.909090909091\tF-measure: 0.533333333333\n",
      "kFold 4:\n",
      "Accuracy: 0.964285714286\tPrecision: 0.388888888889\tRecall: 0.954545454545\tF-measure: 0.552631578947\n",
      "kFold 5:\n",
      "Accuracy: 0.892857142857\tPrecision: 0.32\tRecall: 0.842105263158\tF-measure: 0.463768115942\n",
      "kFold 6:\n",
      "Accuracy: 0.946428571429\tPrecision: 0.245283018868\tRecall: 0.928571428571\tF-measure: 0.388059701493\n",
      "kFold 7:\n",
      "Accuracy: 0.892857142857\tPrecision: 0.4\tRecall: 0.909090909091\tF-measure: 0.555555555556\n",
      "kFold 8:\n",
      "Accuracy: 0.875\tPrecision: 0.34693877551\tRecall: 0.739130434783\tF-measure: 0.472222222222\n",
      "kFold 9:\n",
      "Accuracy: 0.982142857143\tPrecision: 0.4\tRecall: 1.0\tF-measure: 0.571428571429\n",
      "Average Accuracy: 0.941071428571\n",
      "Average Precision: 0.363705503242\n",
      "Average Recall: 0.909638721309\n",
      "Average F-Measure: 0.517757647177\n"
     ]
    }
   ],
   "source": [
    "accuracy = 0.0\n",
    "precision = 0.0\n",
    "recall = 0.0\n",
    "f_measure = 0.0\n",
    "count=shuffled_idx.shape[0]//n_folds\n",
    "for i in range(n_folds):\n",
    "    test = df.iloc[count*i:count*(i+1)]\n",
    "    train = pd.concat([df.iloc[0:count*i],df.iloc[count*(i+1):]])\n",
    "    test_truth = data_truth[count*i:count*(i+1)]\n",
    "    train_truth = pd.concat([df.iloc[:,-1].iloc[0:count*i],df.iloc[:,-1].iloc[count*(i+1):]]).values\n",
    "    root_node = TreeNode(None, None, False, None, None, None, None)\n",
    "    build_tree(root_node, train)\n",
    "    data_label = np.zeros(test_truth.shape)\n",
    "    for j in range(test_truth.shape[0]):\n",
    "        data_label[j] = find_label(test.iloc[j],root_node)\n",
    "    current_accuracy,current_precision,current_recall,current_f_measure = calculate_measure(data_label,test_truth)\n",
    "    print 'kFold ' + str(i) + ':\\nAccuracy: ' + str(current_accuracy) + '\\tPrecision: ' + str(current_precision) + \\\n",
    "    '\\tRecall: ' + str(current_recall) + '\\tF-measure: ' + str(current_f_measure)\n",
    "    accuracy = accuracy + current_accuracy\n",
    "    precision = precision + current_precision\n",
    "    recall = recall + current_recall\n",
    "    f_measure = f_measure + current_f_measure\n",
    "print 'Average Accuracy: ' + str(accuracy/n_folds)\n",
    "print 'Average Precision: ' + str(precision/n_folds)\n",
    "print 'Average Recall: ' + str(recall/n_folds)\n",
    "print 'Average F-Measure: ' + str(f_measure/n_folds)"
   ]
  },
  {
   "cell_type": "code",
   "execution_count": null,
   "metadata": {
    "collapsed": true
   },
   "outputs": [],
   "source": []
  }
 ],
 "metadata": {
  "anaconda-cloud": {},
  "kernelspec": {
   "display_name": "Python [Root]",
   "language": "python",
   "name": "Python [Root]"
  },
  "language_info": {
   "codemirror_mode": {
    "name": "ipython",
    "version": 2
   },
   "file_extension": ".py",
   "mimetype": "text/x-python",
   "name": "python",
   "nbconvert_exporter": "python",
   "pygments_lexer": "ipython2",
   "version": "2.7.12"
  }
 },
 "nbformat": 4,
 "nbformat_minor": 0
}
